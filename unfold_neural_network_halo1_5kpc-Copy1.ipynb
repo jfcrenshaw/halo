{
 "cells": [
  {
   "cell_type": "markdown",
   "metadata": {},
   "source": [
    "This notebook uses a neural network for data unfolding. It is made specifically for Halo1 at 5kpc. This specification is only because the neural network needs to be trained on a data set spanning the full range of possible 1n,2n values. For Halo1 at closer distances or Halo2, it needs to be trained on a wider range of 1n,2n values.\n",
    "\n",
    "First a region of the 1n,2n plane is sampled, and each integer pair is simulation at a detection. These sets of truth,observed values are then scaled down to the size of the neural network. Then the scaled set of truth,observed values are used to feed the neural network. \n",
    "\n",
    "Then the 1n,2n points of interest are simulated, scaled to the NN size, unfolding is performed, then they are rescaled back to normal size. "
   ]
  },
  {
   "cell_type": "code",
   "execution_count": 1,
   "metadata": {},
   "outputs": [
    {
     "name": "stderr",
     "output_type": "stream",
     "text": [
      "C:\\Users\\jfcre\\Anaconda3\\lib\\site-packages\\h5py\\__init__.py:36: FutureWarning: Conversion of the second argument of issubdtype from `float` to `np.floating` is deprecated. In future, it will be treated as `np.float64 == np.dtype(float).type`.\n",
      "  from ._conv import register_converters as _register_converters\n",
      "Using TensorFlow backend.\n"
     ]
    }
   ],
   "source": [
    "# Basic libraries\n",
    "import numpy as np\n",
    "import matplotlib.pyplot as plt\n",
    "import matplotlib.pylab as pylab\n",
    "\n",
    "# Preprocessing\n",
    "from sklearn.model_selection import train_test_split\n",
    "from sklearn.preprocessing import StandardScaler\n",
    "\n",
    "# Neural Network\n",
    "from keras.models import Sequential\n",
    "from keras.layers import Dense\n",
    "\n",
    "# My modules\n",
    "from modules.efficiency_matrix import effmatrix"
   ]
  },
  {
   "cell_type": "code",
   "execution_count": 2,
   "metadata": {},
   "outputs": [],
   "source": [
    "# set the random seed\n",
    "seed = 11\n",
    "np.random.seed(seed)"
   ]
  },
  {
   "cell_type": "markdown",
   "metadata": {},
   "source": [
    "#### Functions for use below:"
   ]
  },
  {
   "cell_type": "code",
   "execution_count": 3,
   "metadata": {},
   "outputs": [],
   "source": [
    "# This function simulates detection in HALO for a given 1n,2n truth values\n",
    "\n",
    "def observe(oneN,twoN):\n",
    "    oneN_obs = 0\n",
    "    twoN_obs = 0\n",
    "    for n in range(oneN):\n",
    "        rand = np.random.random()\n",
    "        if rand < M.item(0,0):\n",
    "            oneN_obs += 1\n",
    "    for n in range(twoN):\n",
    "        rand = np.random.random()\n",
    "        if rand < M.item(0,1):\n",
    "            oneN_obs += 1\n",
    "        elif rand < M.item(0,1) + M.item(1,1):\n",
    "            twoN_obs += 1\n",
    "    return oneN_obs,twoN_obs"
   ]
  },
  {
   "cell_type": "code",
   "execution_count": 4,
   "metadata": {},
   "outputs": [],
   "source": [
    "# This function converts a scatter plot to an array for use in the neural network\n",
    "def scatter_to_hist(xarray,yarray):\n",
    "    \n",
    "    nbins = (NN_x_max + 1)*(NN_y_max + 1)\n",
    "    hist = np.zeros(nbins)\n",
    "    \n",
    "    for i in range(len(xarray)):\n",
    "        x = xarray[i]\n",
    "        y = yarray[i]\n",
    "        \n",
    "        if oneN > 0 or twoN > 0:\n",
    "            j = x + (NN_x_max + 1)*y\n",
    "            hist[j] += 1\n",
    "            \n",
    "    return hist\n",
    "\n",
    "# This function converts neural network arrays back into scatter plot arrays\n",
    "def hist_to_scatter(array, integral=1):\n",
    "    \n",
    "    x_array = []\n",
    "    y_array = []\n",
    "    \n",
    "    if integral == 1:\n",
    "        cut = 0\n",
    "    else:\n",
    "        # Selecting the appropriate cut\n",
    "        sort = -np.sort(-array)\n",
    "        tot_prob = 0\n",
    "        for i in sort:\n",
    "            tot_prob += i\n",
    "            if tot_prob >= integral:\n",
    "                cut = i\n",
    "                break\n",
    "    \n",
    "    for i in range(len(array)):\n",
    "        if array[i] > cut:\n",
    "            # calculate x,y values from index\n",
    "            xval = i % (NN_x_max + 1)\n",
    "            yval = i // (NN_x_max + 1)\n",
    "            # add x,y to arrays for scatter plot\n",
    "            x_array.append(xval)\n",
    "            y_array.append(yval)\n",
    "            \n",
    "    return x_array,y_array"
   ]
  },
  {
   "cell_type": "markdown",
   "metadata": {},
   "source": [
    "#### Creating Neural Network"
   ]
  },
  {
   "cell_type": "code",
   "execution_count": 5,
   "metadata": {},
   "outputs": [],
   "source": [
    "# Setting up this neural network to be the right size for HALO1. \n",
    "# Here I am picking the largest 1n,2n value for Halo1 so that \n",
    "# the NN is large enough for all Halo1 values\n",
    "Truth1n = 72\n",
    "Truth2n = 48"
   ]
  },
  {
   "cell_type": "code",
   "execution_count": 6,
   "metadata": {},
   "outputs": [],
   "source": [
    "# sample region in 1n,2n plane\n",
    "min1n = 10\n",
    "max1n = int(Truth1n+3*np.sqrt(Truth1n)+0.5)\n",
    "min2n = 0\n",
    "max2n = int(Truth2n+3*np.sqrt(Truth2n)+0.5)\n",
    "\n",
    "# plot size (this is the max size that we scale down to NN size)\n",
    "x_max = int(max1n+7*np.sqrt(max1n)+0.5)\n",
    "y_max = int(max2n+7*np.sqrt(max2n)+0.5)\n",
    "\n",
    "# plot size for NN\n",
    "# (takes too much memory to do full size)\n",
    "NN_x_max = 50\n",
    "NN_y_max = 50\n",
    "\n",
    "# how many times we sample the 2D-poisson dist. at a given (1n,2n) truth value\n",
    "nsamples = 10\n",
    "\n",
    "# HALO efficiency matrix\n",
    "M = effmatrix()\n",
    "\n",
    "# step size in sample region\n",
    "# don't take steps smaller than NN resolution\n",
    "xincr = max(int(max1n/NN_x_max+0.5),1)\n",
    "yincr = max(int(max2n/NN_y_max+0.5),1)"
   ]
  },
  {
   "cell_type": "code",
   "execution_count": 7,
   "metadata": {},
   "outputs": [],
   "source": [
    "# Sampling the region in the 1n x 2n plane\n",
    "\n",
    "oneNtruth_set = []\n",
    "twoNtruth_set = []\n",
    "oneNobs_set   = []\n",
    "twoNobs_set   = []\n",
    "\n",
    "for k in range(nsamples):\n",
    "    for i in range(min1n,max1n+1,xincr):\n",
    "        for j in range(min2n,max2n,yincr):\n",
    "\n",
    "            oneNtruth = []\n",
    "            twoNtruth = []\n",
    "            oneNobs   = []\n",
    "            twoNobs   = []\n",
    "\n",
    "            # truth distribution\n",
    "            oneN = np.random.poisson(i)\n",
    "            twoN = np.random.poisson(j)\n",
    "\n",
    "            # calculate observed distribution\n",
    "            oneN_obs,twoN_obs = observe(oneN,twoN)\n",
    "\n",
    "            oneNtruth.append(oneN)\n",
    "            twoNtruth.append(twoN)\n",
    "            oneNobs.append(oneN_obs)\n",
    "            twoNobs.append(twoN_obs)\n",
    "\n",
    "            # add arrays to sets\n",
    "            oneNtruth_set.append(oneNtruth)\n",
    "            twoNtruth_set.append(twoNtruth)\n",
    "            oneNobs_set.append(oneNobs)\n",
    "            twoNobs_set.append(twoNobs)\n"
   ]
  },
  {
   "cell_type": "code",
   "execution_count": 8,
   "metadata": {},
   "outputs": [
    {
     "data": {
      "image/png": "[encoded data removed]",
      "text/plain": [
       "<matplotlib.figure.Figure at 0x221f9b75cf8>"
      ]
     },
     "metadata": {},
     "output_type": "display_data"
    }
   ],
   "source": [
    "# Plot 16 random truth,observed sets for visual check\n",
    "fig, axs = plt.subplots(nrows=4, ncols=4, figsize=(15, 15), sharex=True, sharey=True, facecolor='w', edgecolor='k')\n",
    "fig.subplots_adjust(hspace = 0.2, wspace=0.2)\n",
    "\n",
    "axs = axs.ravel()\n",
    "\n",
    "for plot_ in range(16):\n",
    "    \n",
    "    plot_num = np.random.randint(0,len(oneNtruth_set))\n",
    "            \n",
    "    axs[plot_].scatter(oneNtruth_set[plot_num],twoNtruth_set[plot_num],c='r',marker='.',alpha=1)\n",
    "    axs[plot_].scatter(oneNobs_set[plot_num],twoNobs_set[plot_num],c='b',marker='.',alpha=1)"
   ]
  },
  {
   "cell_type": "code",
   "execution_count": 9,
   "metadata": {},
   "outputs": [],
   "source": [
    "# scale everything down to NN size\n",
    "xscale = NN_x_max/x_max\n",
    "yscale = NN_y_max/y_max\n",
    "    \n",
    "oneNtruth_set_scaled = np.array([np.array(i)*xscale for i in oneNtruth_set]).astype(int)\n",
    "twoNtruth_set_scaled = np.array([np.array(i)*yscale for i in twoNtruth_set]).astype(int)\n",
    "oneNobs_set_scaled   = np.array([np.array(i)*xscale for i in oneNobs_set]).astype(int)\n",
    "twoNobs_set_scaled   = np.array([np.array(i)*yscale for i in twoNobs_set]).astype(int)"
   ]
  },
  {
   "cell_type": "code",
   "execution_count": 10,
   "metadata": {},
   "outputs": [],
   "source": [
    "# convert scatter plots to NN arrays\n",
    "\n",
    "truth_set = []\n",
    "obs_set   = []\n",
    "\n",
    "# add truths,observations to arrays\n",
    "for i in range(len(oneNtruth_set_scaled)):\n",
    "    \n",
    "    oneNtruth = oneNtruth_set_scaled[i]\n",
    "    twoNtruth = twoNtruth_set_scaled[i]\n",
    "    oneNobs   = oneNobs_set_scaled[i]\n",
    "    twoNobs   = twoNobs_set_scaled[i]\n",
    "    \n",
    "    truth = scatter_to_hist(oneNtruth,twoNtruth)\n",
    "    obs   = scatter_to_hist(oneNobs,twoNobs)\n",
    "    \n",
    "    # add arrays to set\n",
    "    truth_set.append(truth)\n",
    "    obs_set.append(obs)\n"
   ]
  },
  {
   "cell_type": "code",
   "execution_count": 11,
   "metadata": {},
   "outputs": [],
   "source": [
    "# standardize the data\n",
    "# (Many training algorithms behave poorly if the data isn't \n",
    "# (approximately) normally distributed (i.e. Gaussian with \n",
    "# mean = 0 and unit variance))\n",
    "\n",
    "scaler = StandardScaler()\n",
    "# Fit the scaler\n",
    "scaler.fit(obs_set)\n",
    "# standardize the data\n",
    "obs_set = scaler.transform(obs_set)"
   ]
  },
  {
   "cell_type": "code",
   "execution_count": 12,
   "metadata": {},
   "outputs": [
    {
     "name": "stdout",
     "output_type": "stream",
     "text": [
      "Epoch 1/2\n",
      "30360/30360 [==============================] - 359s 12ms/step - loss: 0.0031 - acc: 0.9996\n",
      "Epoch 2/2\n",
      "30360/30360 [==============================] - 357s 12ms/step - loss: 0.0029 - acc: 0.9996\n"
     ]
    },
    {
     "data": {
      "text/plain": [
       "<keras.callbacks.History at 0x221809f6b00>"
      ]
     },
     "execution_count": 12,
     "metadata": {},
     "output_type": "execute_result"
    }
   ],
   "source": [
    "# The neural network. \n",
    "# It is a fully-connected (dense) feed-forward neural network\n",
    "\n",
    "width = (NN_x_max+1)*(NN_y_max+1) # how many nodes in input\n",
    "epochs = 2#4\n",
    "batch_size = 32\n",
    "\n",
    "model = Sequential()\n",
    "model.add(Dense(width, input_dim=width, kernel_initializer='normal', activation='relu'))\n",
    "model.add(Dense(width, kernel_initializer='normal', activation='softmax'))\n",
    "model.compile(loss='binary_crossentropy', optimizer='adam', metrics=['accuracy'])\n",
    "\n",
    "model.fit(obs_set, np.array(truth_set), epochs=epochs, batch_size=batch_size,verbose=1)"
   ]
  },
  {
   "cell_type": "code",
   "execution_count": 13,
   "metadata": {},
   "outputs": [],
   "source": [
    "# Perform the unfolding\n",
    "unfolded_set = model.predict(obs_set)"
   ]
  },
  {
   "cell_type": "code",
   "execution_count": 14,
   "metadata": {},
   "outputs": [
    {
     "data": {
      "image/png": "[encoded data removed]",
      "text/plain": [
       "<matplotlib.figure.Figure at 0x221cd276d30>"
      ]
     },
     "metadata": {},
     "output_type": "display_data"
    }
   ],
   "source": [
    "# Plot 16 examples\n",
    "fig, axs = plt.subplots(nrows=4, ncols=4, figsize=(15, 15), sharex=True, sharey=True, facecolor='w', edgecolor='k')\n",
    "fig.subplots_adjust(hspace = 0.2, wspace=0.2)\n",
    "\n",
    "axs = axs.ravel()\n",
    "\n",
    "for plot_ in range(16):\n",
    "    \n",
    "    plot_num = np.random.randint(0,len(unfolded_set))\n",
    "    unfolded_plot = unfolded_set[plot_num]\n",
    "    truth_plot = truth_set[plot_num]\n",
    "\n",
    "    # arrays for scatter plot\n",
    "    x_unfolded, y_unfolded = hist_to_scatter(unfolded_plot,integral=0.9)\n",
    "    x_truth, y_truth = hist_to_scatter(truth_plot)\n",
    "            \n",
    "    axs[plot_].scatter(x_truth,y_truth,c='r',marker='*',alpha=1)\n",
    "    axs[plot_].scatter(x_unfolded,y_unfolded,c='b',marker='.',alpha=0.35)\n",
    "    "
   ]
  },
  {
   "cell_type": "markdown",
   "metadata": {},
   "source": [
    "-------------------------------------------------------------------------------------------------------------------\n",
    "-------------------------------------------------------------------------------------------------------------------\n",
    "\n",
    "#### Unfolding"
   ]
  },
  {
   "cell_type": "code",
   "execution_count": 55,
   "metadata": {},
   "outputs": [],
   "source": [
    "# This function takes a 1n,2n truth value and does the unfolding\n",
    "\n",
    "def unfold(Truth1n,Truth2n,xmin=0,xmax=x_max,ymin=0,ymax=y_max):\n",
    "    \n",
    "    Total_ = np.zeros(2601)\n",
    "    \n",
    "    for k in range(100):\n",
    "        # First generate a truth and observed distribution\n",
    "        # -------------------------------------------------------\n",
    "        oneNtruth = []\n",
    "        twoNtruth = []\n",
    "        oneNobs   = []\n",
    "        twoNobs   = []\n",
    "\n",
    "        # calculate observed distribution\n",
    "        oneN_obs,twoN_obs = observe(Truth1n,Truth2n)\n",
    "\n",
    "        oneNtruth.append(Truth1n)\n",
    "        twoNtruth.append(Truth2n)\n",
    "        oneNobs.append(oneN_obs)\n",
    "        twoNobs.append(twoN_obs)\n",
    "\n",
    "        # Second create data array for the neural network\n",
    "        # -------------------------------------------------------\n",
    "\n",
    "        # scale data down to Neural Network size\n",
    "        xscale = NN_x_max/x_max\n",
    "        yscale = NN_y_max/y_max\n",
    "        oneNobs_scaled   = [int(i*xscale) for i in oneNobs]\n",
    "        twoNobs_scaled   = [int(i*yscale) for i in twoNobs]\n",
    "\n",
    "        # convert scatter plot to array\n",
    "        obs = scatter_to_hist(oneNobs_scaled,twoNobs_scaled)\n",
    "\n",
    "        # need an array of length batch_size\n",
    "        obs_set = np.array([obs for i in range(batch_size)])\n",
    "\n",
    "        # standardize the data\n",
    "        obs_set = scaler.transform(obs_set)\n",
    "\n",
    "        # Third unfold and plot the results\n",
    "        # ------------------------------------------------------- \n",
    "        unfolded_set = model.predict(obs_set)\n",
    "        unfolded = unfolded_set[0]\n",
    "\n",
    "        for i in range(len(unfolded)):\n",
    "            Total_[i] += unfolded[i]\n",
    "    \"\"\"  \n",
    "    Total_sorted = [i for i in Total_]\n",
    "    Total_sorted.sort()\n",
    "    total_count = 0\n",
    "    cut = 0\n",
    "    for i in Total_sorted:\n",
    "        total_count += i\n",
    "        if total_count > 0.1*sum(Total_):\n",
    "            cut = i\n",
    "            break\n",
    "    cut_total = 0\n",
    "    for i in range(len(Total_)):\n",
    "        if Total_[i] < cut:\n",
    "            cut_total += Total_[i]\n",
    "            Total_[i] = 0\n",
    "    print(cut_total)\n",
    "    print(total_count,cut)\n",
    "    \"\"\"\n",
    "    print(sum(unfolded))\n",
    "    \n",
    "    x_unfolded, y_unfolded = hist_to_scatter(unfolded,integral=0.9)\n",
    "\n",
    "    # rescale back to full size\n",
    "    x_unfolded = [i/xscale for i in x_unfolded]\n",
    "    y_unfolded = [i/yscale for i in y_unfolded]\n",
    "        \n",
    "    return x_unfolded,y_unfolded\n"
   ]
  },
  {
   "cell_type": "code",
   "execution_count": 56,
   "metadata": {
    "scrolled": false
   },
   "outputs": [
    {
     "name": "stdout",
     "output_type": "stream",
     "text": [
      "0.9999994796371539\n"
     ]
    }
   ],
   "source": [
    "# HALO 1, 5kpc, 72 oneN, 48 twoN\n",
    "x_unfolded_1, y_unfolded_1 = unfold(72,48)\n",
    "save = [x_unfolded_1, y_unfolded_1]\n",
    "#np.save('./unfolded_data/halo1_5kpc_72v48_unfolded_NN.npy',save)"
   ]
  },
  {
   "cell_type": "code",
   "execution_count": 58,
   "metadata": {},
   "outputs": [
    {
     "data": {
      "text/plain": [
       "<matplotlib.collections.PathCollection at 0x221d0ed3470>"
      ]
     },
     "execution_count": 58,
     "metadata": {},
     "output_type": "execute_result"
    },
    {
     "data": {
      "image/png": "[encoded data removed]",
      "text/plain": [
       "<matplotlib.figure.Figure at 0x221eee05278>"
      ]
     },
     "metadata": {},
     "output_type": "display_data"
    }
   ],
   "source": [
    "plt.scatter(x_unfolded_1,y_unfolded_1,marker='.')"
   ]
  },
  {
   "cell_type": "code",
   "execution_count": 17,
   "metadata": {},
   "outputs": [],
   "source": [
    "from modules.plotting import density_cut,contours,scatter,zero_fix # functions to make contour plots"
   ]
  },
  {
   "cell_type": "code",
   "execution_count": 37,
   "metadata": {},
   "outputs": [],
   "source": [
    "total = sum(x_unfolded_1)\n",
    "#h1_5kpc_72v48_1n = [i/total for i in ] \n",
    "#h1_5kpc_72v48_2n = "
   ]
  },
  {
   "cell_type": "code",
   "execution_count": 32,
   "metadata": {},
   "outputs": [
    {
     "ename": "IndexError",
     "evalue": "index 907596 is out of bounds for axis 0 with size 379",
     "output_type": "error",
     "traceback": [
      "\u001b[1;31m---------------------------------------------------------------------------\u001b[0m",
      "\u001b[1;31mIndexError\u001b[0m                                Traceback (most recent call last)",
      "\u001b[1;32m<ipython-input-32-1e430df20074>\u001b[0m in \u001b[0;36m<module>\u001b[1;34m()\u001b[0m\n\u001b[0;32m      4\u001b[0m \u001b[0mxmin\u001b[0m \u001b[1;33m=\u001b[0m \u001b[1;33m-\u001b[0m\u001b[1;36m15\u001b[0m\u001b[1;33m;\u001b[0m \u001b[0mxmax\u001b[0m \u001b[1;33m=\u001b[0m \u001b[1;36m160\u001b[0m\u001b[1;33m;\u001b[0m \u001b[0mymin\u001b[0m \u001b[1;33m=\u001b[0m \u001b[1;33m-\u001b[0m\u001b[1;36m15\u001b[0m\u001b[1;33m;\u001b[0m \u001b[0mymax\u001b[0m \u001b[1;33m=\u001b[0m \u001b[1;36m100\u001b[0m\u001b[1;33m\u001b[0m\u001b[0m\n\u001b[0;32m      5\u001b[0m \u001b[0mxres\u001b[0m \u001b[1;33m=\u001b[0m \u001b[1;36m50j\u001b[0m\u001b[1;33m;\u001b[0m \u001b[0myres\u001b[0m \u001b[1;33m=\u001b[0m \u001b[1;36m50j\u001b[0m\u001b[1;33m\u001b[0m\u001b[0m\n\u001b[1;32m----> 6\u001b[1;33m \u001b[0mxN1_1\u001b[0m\u001b[1;33m,\u001b[0m\u001b[0myN1_1\u001b[0m\u001b[1;33m,\u001b[0m\u001b[0mzN1_1\u001b[0m\u001b[1;33m,\u001b[0m\u001b[0mcutN1_1\u001b[0m \u001b[1;33m=\u001b[0m \u001b[0mdensity_cut\u001b[0m\u001b[1;33m(\u001b[0m\u001b[0mx_unfolded_1\u001b[0m\u001b[1;33m,\u001b[0m\u001b[0my_unfolded_1\u001b[0m\u001b[1;33m,\u001b[0m\u001b[0mxmin\u001b[0m\u001b[1;33m,\u001b[0m\u001b[0mxmax\u001b[0m\u001b[1;33m,\u001b[0m\u001b[0mymin\u001b[0m\u001b[1;33m,\u001b[0m\u001b[0mymax\u001b[0m\u001b[1;33m,\u001b[0m\u001b[0mxres\u001b[0m\u001b[1;33m,\u001b[0m\u001b[0myres\u001b[0m\u001b[1;33m,\u001b[0m\u001b[0mcut\u001b[0m\u001b[1;33m=\u001b[0m\u001b[0mCut\u001b[0m\u001b[1;33m)\u001b[0m\u001b[1;33m\u001b[0m\u001b[0m\n\u001b[0m\u001b[0;32m      7\u001b[0m \u001b[0mfig\u001b[0m\u001b[1;33m,\u001b[0m\u001b[0max\u001b[0m \u001b[1;33m=\u001b[0m \u001b[0mplt\u001b[0m\u001b[1;33m.\u001b[0m\u001b[0msubplots\u001b[0m\u001b[1;33m(\u001b[0m\u001b[1;36m1\u001b[0m\u001b[1;33m,\u001b[0m\u001b[1;36m1\u001b[0m\u001b[1;33m,\u001b[0m\u001b[0mfigsize\u001b[0m\u001b[1;33m=\u001b[0m\u001b[1;33m(\u001b[0m\u001b[1;36m8\u001b[0m\u001b[1;33m,\u001b[0m\u001b[1;36m6\u001b[0m\u001b[1;33m)\u001b[0m\u001b[1;33m)\u001b[0m\u001b[1;33m\u001b[0m\u001b[0m\n\u001b[0;32m      8\u001b[0m \u001b[0mcontours\u001b[0m\u001b[1;33m(\u001b[0m\u001b[0mxN1_1\u001b[0m\u001b[1;33m,\u001b[0m\u001b[0myN1_1\u001b[0m\u001b[1;33m,\u001b[0m\u001b[0mzN1_1\u001b[0m\u001b[1;33m,\u001b[0m\u001b[0mcutN1_1\u001b[0m\u001b[1;33m,\u001b[0m\u001b[0max\u001b[0m\u001b[1;33m)\u001b[0m\u001b[1;33m\u001b[0m\u001b[0m\n",
      "\u001b[1;32m~\\Documents\\Duke\\Neutrino Group\\code\\modules\\plotting.py\u001b[0m in \u001b[0;36mdensity_cut\u001b[1;34m(oneN, twoN, xmin, xmax, ymin, ymax, xres, yres, cut, trim)\u001b[0m\n\u001b[0;32m     49\u001b[0m     \u001b[0mcut_index\u001b[0m \u001b[1;33m=\u001b[0m \u001b[0mint\u001b[0m\u001b[1;33m(\u001b[0m\u001b[0mcut\u001b[0m\u001b[1;33m*\u001b[0m\u001b[0mlen\u001b[0m\u001b[1;33m(\u001b[0m\u001b[0moneN\u001b[0m\u001b[1;33m)\u001b[0m\u001b[1;33m)\u001b[0m\u001b[1;33m-\u001b[0m\u001b[1;36m1\u001b[0m\u001b[1;33m\u001b[0m\u001b[0m\n\u001b[0;32m     50\u001b[0m     \u001b[1;32mif\u001b[0m \u001b[0mcut_index\u001b[0m \u001b[1;33m>=\u001b[0m \u001b[1;36m0\u001b[0m\u001b[1;33m:\u001b[0m\u001b[1;33m\u001b[0m\u001b[0m\n\u001b[1;32m---> 51\u001b[1;33m         \u001b[0mcut_\u001b[0m \u001b[1;33m=\u001b[0m \u001b[0mzi\u001b[0m\u001b[1;33m[\u001b[0m\u001b[0mcut_index\u001b[0m\u001b[1;33m]\u001b[0m\u001b[1;33m\u001b[0m\u001b[0m\n\u001b[0m\u001b[0;32m     52\u001b[0m     \u001b[1;32melse\u001b[0m\u001b[1;33m:\u001b[0m\u001b[1;33m\u001b[0m\u001b[0m\n\u001b[0;32m     53\u001b[0m         \u001b[0mcut_\u001b[0m \u001b[1;33m=\u001b[0m \u001b[0mzi\u001b[0m\u001b[1;33m[\u001b[0m\u001b[1;36m0\u001b[0m\u001b[1;33m]\u001b[0m\u001b[1;33m\u001b[0m\u001b[0m\n",
      "\u001b[1;31mIndexError\u001b[0m: index 907596 is out of bounds for axis 0 with size 379"
     ]
    }
   ],
   "source": [
    "# HALO 1, 5kpc, 72v48\n",
    "xmin = -15; xmax = 160; ymin = -15; ymax = 100\n",
    "xres = 50j; yres = 50j\n",
    "xN1_1,yN1_1,zN1_1,cutN1_1 = density_cut(x_unfolded_1,y_unfolded_1,xmin,xmax,ymin,ymax,xres,yres,cut=Cut)\n",
    "fig,ax = plt.subplots(1,1,figsize=(8,6))\n",
    "contours(xN1_1,yN1_1,zN1_1,cutN1_1,ax)\n",
    "#scatter(h1_5kpc_72v48_1n,h1_5kpc_72v48_2n,ax)"
   ]
  },
  {
   "cell_type": "code",
   "execution_count": 56,
   "metadata": {},
   "outputs": [
    {
     "data": {
      "image/png": "[encoded data removed]",
      "text/plain": [
       "<matplotlib.figure.Figure at 0x2730eaf91d0>"
      ]
     },
     "metadata": {},
     "output_type": "display_data"
    }
   ],
   "source": [
    "# HALO 1, 5kpc, 40 oneN, 12 twoN\n",
    "x_unfolded_2, y_unfolded_2 = unfold(40,12)\n",
    "save = [x_unfolded_2, y_unfolded_2]\n",
    "#np.save('./unfolded_data/halo1_5kpc_40v12_unfolded_NN.npy',save)"
   ]
  },
  {
   "cell_type": "code",
   "execution_count": 57,
   "metadata": {},
   "outputs": [
    {
     "data": {
      "image/png": "[encoded data removed]",
      "text/plain": [
       "<matplotlib.figure.Figure at 0x2730eb1c7f0>"
      ]
     },
     "metadata": {},
     "output_type": "display_data"
    }
   ],
   "source": [
    "# HALO 1, 5kpc, 16 oneN, 0 twoN\n",
    "x_unfolded_3, y_unfolded_3 = unfold(16,0,xmax=40,ymin=-1,ymax=1)\n",
    "save = [x_unfolded_3, y_unfolded_3]\n",
    "#np.save('./unfolded_data/halo1_5kpc_16v0_unfolded_NN.npy',save)"
   ]
  },
  {
   "cell_type": "code",
   "execution_count": null,
   "metadata": {},
   "outputs": [],
   "source": []
  }
 ],
 "metadata": {
  "kernelspec": {
   "display_name": "Python 3",
   "language": "python",
   "name": "python3"
  },
  "language_info": {
   "codemirror_mode": {
    "name": "ipython",
    "version": 3
   },
   "file_extension": ".py",
   "mimetype": "text/x-python",
   "name": "python",
   "nbconvert_exporter": "python",
   "pygments_lexer": "ipython3",
   "version": "3.6.4"
  }
 },
 "nbformat": 4,
 "nbformat_minor": 2
}
