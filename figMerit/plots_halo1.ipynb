{
 "cells": [
  {
   "cell_type": "code",
   "execution_count": 6,
   "metadata": {},
   "outputs": [],
   "source": [
    "import numpy as np\n",
    "import matplotlib.pyplot as plt\n",
    "import matplotlib.pylab as pylab\n",
    "from scipy import interpolate"
   ]
  },
  {
   "cell_type": "code",
   "execution_count": 37,
   "metadata": {},
   "outputs": [],
   "source": [
    "figsize = (8,6)\n",
    "plt.rc('font', family='sans-serif')\n",
    "plt.rc('axes', labelsize='x-large')\n",
    "plt.rc('xtick', labelsize='large')\n",
    "plt.rc('ytick', labelsize='large')\n",
    "plt.rc('axes',titlesize='x-large')\n",
    "#print(plt.rcParams.keys())"
   ]
  },
  {
   "cell_type": "code",
   "execution_count": 8,
   "metadata": {},
   "outputs": [],
   "source": [
    "dist, eff, excl = np.genfromtxt('exclusions_halo1.txt',unpack=True,skip_header=1)"
   ]
  },
  {
   "cell_type": "markdown",
   "metadata": {},
   "source": [
    "### just plot raw data "
   ]
  },
  {
   "cell_type": "code",
   "execution_count": 9,
   "metadata": {},
   "outputs": [
    {
     "data": {
      "image/png": "[encoded data removed]",
      "text/plain": [
       "<matplotlib.figure.Figure at 0x257ea138eb8>"
      ]
     },
     "metadata": {},
     "output_type": "display_data"
    }
   ],
   "source": [
    "plt.scatter(dist,excl)\n",
    "plt.show()\n",
    "# Note, you can see a good downward trend until 10 kpc. At that point, stuff is messed up. \n",
    "# Some of is because it has trouble creating contours. For example, the exclusion=1 is probably bc no contour was found."
   ]
  },
  {
   "cell_type": "markdown",
   "metadata": {},
   "source": [
    "### Use good data + interpolation/extrapolation to create full data set"
   ]
  },
  {
   "cell_type": "code",
   "execution_count": 21,
   "metadata": {},
   "outputs": [],
   "source": [
    "# Good data (mostly)\n",
    "\n",
    "dist_good = []; excl_good = []\n",
    "for i in range(len(dist)):\n",
    "    if dist[i] <= 8:\n",
    "        dist_good.append(dist[i])\n",
    "        excl_good.append(excl[i])"
   ]
  },
  {
   "cell_type": "code",
   "execution_count": 22,
   "metadata": {},
   "outputs": [],
   "source": [
    "# Extrapolation\n",
    "\n",
    "# linear fit and extrapolate\n",
    "params = np.polyfit(dist_good,excl_good,1)\n",
    "def f(x):\n",
    "    return params[0]*x + params[1]\n",
    "dist_extend = [10,12,14]\n",
    "for d in dist_extend:\n",
    "    dist_good.append(d)\n",
    "    if f(d) >= 0:\n",
    "        excl_good.append(f(d))\n",
    "    else:\n",
    "        excl_good.append(0)"
   ]
  },
  {
   "cell_type": "code",
   "execution_count": 40,
   "metadata": {},
   "outputs": [
    {
     "data": {
      "image/png": "[encoded data removed]",
      "text/plain": [
       "<matplotlib.figure.Figure at 0x257ebbbc1d0>"
      ]
     },
     "metadata": {},
     "output_type": "display_data"
    }
   ],
   "source": [
    "fig,ax = plt.subplots(1,1,figsize=(8,6))\n",
    "ax.scatter(dist_good,excl_good,color='black')\n",
    "\n",
    "ax.set_ylim(-0.1,1)\n",
    "ax.set_ylabel('Fraction of models excluded')\n",
    "ax.set_xlabel('Distance (kpc)')\n",
    "\n",
    "pylab.savefig('figure_of_merit_halo1.png')\n",
    "\n",
    "plt.show()"
   ]
  },
  {
   "cell_type": "code",
   "execution_count": null,
   "metadata": {},
   "outputs": [],
   "source": []
  }
 ],
 "metadata": {
  "kernelspec": {
   "display_name": "Python 3",
   "language": "python",
   "name": "python3"
  },
  "language_info": {
   "codemirror_mode": {
    "name": "ipython",
    "version": 3
   },
   "file_extension": ".py",
   "mimetype": "text/x-python",
   "name": "python",
   "nbconvert_exporter": "python",
   "pygments_lexer": "ipython3",
   "version": "3.6.4"
  }
 },
 "nbformat": 4,
 "nbformat_minor": 2
}
